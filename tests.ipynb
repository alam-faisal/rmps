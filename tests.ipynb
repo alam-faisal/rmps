{
 "cells": [
  {
   "cell_type": "code",
   "execution_count": 1,
   "id": "5e18311f",
   "metadata": {
    "ExecuteTime": {
     "end_time": "2024-08-22T16:15:24.214262Z",
     "start_time": "2024-08-22T16:15:20.310552Z"
    }
   },
   "outputs": [],
   "source": [
    "from pbc_purity import *\n",
    "import matplotlib.pyplot as plt"
   ]
  },
  {
   "cell_type": "code",
   "execution_count": 2,
   "id": "15792a0c",
   "metadata": {
    "ExecuteTime": {
     "end_time": "2024-08-22T16:16:15.820808Z",
     "start_time": "2024-08-22T16:15:24.262535Z"
    }
   },
   "outputs": [
    {
     "name": "stderr",
     "output_type": "stream",
     "text": [
      "100%|████████████████████████████████████████████████████████████████████████████████████| 3/3 [00:51<00:00, 17.16s/it]\n"
     ]
    }
   ],
   "source": [
    "n = 4\n",
    "k_copies = 3\n",
    "chi_list = np.arange(2,5)\n",
    "purity_against_chi = [rmps_purity(n, k_copies, chi) for chi in tqdm(chi_list)]"
   ]
  },
  {
   "cell_type": "code",
   "execution_count": 7,
   "id": "5ff6516b",
   "metadata": {
    "ExecuteTime": {
     "end_time": "2024-08-22T16:16:55.111269Z",
     "start_time": "2024-08-22T16:16:54.754846Z"
    }
   },
   "outputs": [
    {
     "data": {
      "text/plain": [
       "[<matplotlib.lines.Line2D at 0x2140c76c550>]"
      ]
     },
     "execution_count": 7,
     "metadata": {},
     "output_type": "execute_result"
    },
    {
     "data": {
      "image/png": "[encoded data removed]",
      "text/plain": [
       "<Figure size 432x288 with 1 Axes>"
      ]
     },
     "metadata": {
      "needs_background": "light"
     },
     "output_type": "display_data"
    }
   ],
   "source": [
    "plt.plot(purity_against_chi)\n",
    "#plt.yscale('log')"
   ]
  },
  {
   "cell_type": "code",
   "execution_count": 4,
   "id": "a20adeb1",
   "metadata": {
    "ExecuteTime": {
     "end_time": "2024-08-22T16:16:17.304104Z",
     "start_time": "2024-08-22T16:16:17.278924Z"
    }
   },
   "outputs": [
    {
     "data": {
      "text/plain": [
       "[0.04929004045338683, 0.02777153587219735, 0.024010244700037205]"
      ]
     },
     "execution_count": 4,
     "metadata": {},
     "output_type": "execute_result"
    }
   ],
   "source": [
    "purity_against_chi"
   ]
  },
  {
   "cell_type": "code",
   "execution_count": null,
   "id": "3b8e4856",
   "metadata": {},
   "outputs": [],
   "source": []
  }
 ],
 "metadata": {
  "kernelspec": {
   "display_name": "Python [conda env:snowflakes] *",
   "language": "python",
   "name": "conda-env-snowflakes-py"
  },
  "language_info": {
   "codemirror_mode": {
    "name": "ipython",
    "version": 3
   },
   "file_extension": ".py",
   "mimetype": "text/x-python",
   "name": "python",
   "nbconvert_exporter": "python",
   "pygments_lexer": "ipython3",
   "version": "3.9.13"
  },
  "toc": {
   "base_numbering": 1,
   "nav_menu": {},
   "number_sections": true,
   "sideBar": true,
   "skip_h1_title": false,
   "title_cell": "Table of Contents",
   "title_sidebar": "Contents",
   "toc_cell": false,
   "toc_position": {},
   "toc_section_display": true,
   "toc_window_display": false
  }
 },
 "nbformat": 4,
 "nbformat_minor": 5
}
