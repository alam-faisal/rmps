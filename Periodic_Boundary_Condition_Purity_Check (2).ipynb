{
 "cells": [
  {
   "cell_type": "code",
   "execution_count": 1,
   "metadata": {},
   "outputs": [],
   "source": [
    "import numpy as np\n",
    "from ncon import *\n",
    "import time as t\n",
    "import scipy.special\n",
    "import matplotlib.pyplot as plt"
   ]
  },
  {
   "cell_type": "code",
   "execution_count": 15,
   "metadata": {},
   "outputs": [],
   "source": [
    "def haar_random_isometry(p, chi):\n",
    "    temp = np.random.rand(p * chi, p * chi) + 1j * np.random.rand(p * chi, p * chi)\n",
    "    temp = temp + np.conjugate(np.transpose(temp))\n",
    "    return np.linalg.eigh(temp)[1][:, :chi] \n",
    "\n",
    "def create_tensors(n, p, chi):\n",
    "    tensor_list = []\n",
    "    temp = np.reshape(haar_random_isometry(p, chi), [chi, p, chi])\n",
    "    for i in range(n):\n",
    "        tensor_list.append(temp)\n",
    "    return np.array(tensor_list)\n",
    "\n",
    "def create_transfer_matrix(tensor_list_A, tensor_list_B, i, chi):\n",
    "    return np.reshape(ncon([tensor_list_A[i], np.conjugate(tensor_list_B[i])], [[-1, 1, -3], [-2, 1, -4]]), [chi ** 2, chi ** 2])\n",
    "\n",
    "def overlap(tensor_list_A, tensor_list_B, chi):\n",
    "    transfer_matrix = create_transfer_matrix(tensor_list_A, tensor_list_B, 0, chi)\n",
    "    normalization = transfer_matrix\n",
    "    for i in range(1, len(tensor_list_A)):\n",
    "        normalization = create_transfer_matrix(tensor_list_A, tensor_list_B, i, chi) @ normalization\n",
    "    return np.trace(normalization)"
   ]
  },
  {
   "cell_type": "markdown",
   "metadata": {},
   "source": [
    "Check"
   ]
  },
  {
   "cell_type": "code",
   "execution_count": 16,
   "metadata": {},
   "outputs": [],
   "source": [
    "# tensor_list = create_tensors(n, p, chi)\n",
    "# print(overlap(tensor_list, tensor_list, chi))\n",
    "\n",
    "# tensor_list = tensor_list / np.sqrt(overlap(tensor_list, tensor_list, chi) ** (1/n))\n",
    "# print(np.abs(1 - overlap(tensor_list, tensor_list, chi)))\n",
    "\n",
    "# if np.abs(1 - overlap(tensor_list, tensor_list, chi)) > 1.e-14:\n",
    "    \n",
    "#     raise ValueError(\"State not normalized!\")"
   ]
  },
  {
   "cell_type": "code",
   "execution_count": 17,
   "metadata": {},
   "outputs": [
    {
     "name": "stdout",
     "output_type": "stream",
     "text": [
      "5:\t elapsed time: 10.49\n",
      "6:\t elapsed time: 14.89\n",
      "7:\t elapsed time: 15.43\n",
      "8:\t elapsed time: 15.55\n",
      "9:\t elapsed time: 18.15\n",
      "[1.95318497e-05 2.00614299e-05 1.98561884e-05 1.88885360e-05\n",
      " 1.74898809e-05]\n"
     ]
    }
   ],
   "source": [
    "p = 2\n",
    "k_copies = 3\n",
    "n = 4\n",
    "samples = 1000\n",
    "chi_list = np.arange(5, 10)\n",
    "list_purity_vs_chi = []\n",
    "\n",
    "for chi in chi_list:\n",
    "    average_purity = 0\n",
    "    start_time = t.time()\n",
    "    for sample in range(samples):\n",
    "        tensor_list_A = create_tensors(n, p, chi)\n",
    "        tensor_list_A[0] = tensor_list_A[0] / np.sqrt(np.abs(overlap(tensor_list_A, tensor_list_A, chi)))\n",
    "        tensor_list_B = create_tensors(n, p, chi)\n",
    "        tensor_list_B[0] = tensor_list_B[0] / np.sqrt(np.abs(overlap(tensor_list_B, tensor_list_B, chi)))\n",
    "        \n",
    "        if np.abs(1 - overlap(tensor_list_A, tensor_list_A, chi)) > 1.e-14:\n",
    "            print(np.abs(1 - overlap(tensor_list_A, tensor_list_A, chi)))\n",
    "            raise ValueError(\"State not normalized!\")\n",
    "        \n",
    "        if np.abs(1 - overlap(tensor_list_B, tensor_list_B, chi)) > 1.e-14:\n",
    "            print(np.abs(1 - overlap(tensor_list_B, tensor_list_B, chi)))\n",
    "            raise ValueError(\"State not normalized!\")\n",
    "\n",
    "        temp = np.abs(overlap(tensor_list_A, tensor_list_B, chi)) ** ( 2 * k_copies )\n",
    "        average_purity += temp\n",
    "    \n",
    "    average_purity /= (samples ** 2)\n",
    "    list_purity_vs_chi.append(average_purity)\n",
    "    print(str(chi) + \":\\t elapsed time: %2.2f\" % (t.time() - start_time))\n",
    "\n",
    "list_purity_vs_chi = np.array(list_purity_vs_chi)\n",
    "print(list_purity_vs_chi)\n",
    "# print(\"average purity:\", average_purity)"
   ]
  },
  {
   "cell_type": "code",
   "execution_count": 20,
   "metadata": {},
   "outputs": [
    {
     "data": {
      "text/plain": [
       "<matplotlib.collections.PathCollection at 0x16f2da9e4d0>"
      ]
     },
     "execution_count": 20,
     "metadata": {},
     "output_type": "execute_result"
    },
    {
     "data": {
      "image/png": "[encoded data removed]",
      "text/plain": [
       "<Figure size 640x480 with 1 Axes>"
      ]
     },
     "metadata": {},
     "output_type": "display_data"
    }
   ],
   "source": [
    "fig, ax = plt.subplots()\n",
    "# ax.scatter(chi_list, list_purity_vs_chi * samples)\n",
    "ax.scatter(chi_list, (np.abs(list_purity_vs_chi * samples - (1. / scipy.special.binom(p ** n + k_copies - 1, k_copies)))))\n",
    "# ax.plot(chi_list, (1. / scipy.special.binom(p ** n + k_copies - 1, k_copies)) * np.ones_like(chi_list))\n",
    "# ax.plot(chi_list, (1. / (p ** (n * k_copies))) * np.ones_like(chi_list))\n",
    "# ax.plot(chi_list, 1./ chi_list)\n",
    "# ax.set_yscale(\"log\")"
   ]
  },
  {
   "cell_type": "code",
   "execution_count": null,
   "metadata": {},
   "outputs": [],
   "source": []
  }
 ],
 "metadata": {
  "kernelspec": {
   "display_name": "ippoliti",
   "language": "python",
   "name": "python3"
  },
  "language_info": {
   "codemirror_mode": {
    "name": "ipython",
    "version": 3
   },
   "file_extension": ".py",
   "mimetype": "text/x-python",
   "name": "python",
   "nbconvert_exporter": "python",
   "pygments_lexer": "ipython3",
   "version": "3.11.5"
  }
 },
 "nbformat": 4,
 "nbformat_minor": 2
}
